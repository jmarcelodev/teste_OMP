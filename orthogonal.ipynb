{
 "cells": [
  {
   "cell_type": "code",
   "execution_count": 1,
   "id": "7becf692",
   "metadata": {},
   "outputs": [],
   "source": [
    "#Importar as bibliotecas de manipulação de dados\n",
    "import pandas as pd\n",
    "import numpy as np\n",
    "import matplotlib.pyplot as plt\n",
    "import seaborn as sns"
   ]
  },
  {
   "cell_type": "code",
   "execution_count": 2,
   "id": "ffdeb85c",
   "metadata": {},
   "outputs": [],
   "source": [
    "#Importar as planilhas formato csv\n",
    "df1= pd.read_csv('train_test.csv') #Somente treinamento\n",
    "df2= pd.read_csv('valid_orth.csv') #Somente validação "
   ]
  },
  {
   "cell_type": "code",
   "execution_count": 10,
   "id": "2227e39b",
   "metadata": {},
   "outputs": [],
   "source": [
    "#Dividir o conjuto de dados de treinamento e escolher quais váriaveis não vão entrar\n",
    "from sklearn.model_selection import train_test_split\n",
    "from sklearn.preprocessing import StandardScaler\n",
    "X = df1.drop(['fid', 'lat', 'long', 'talhao', 'wkt_geom','Altitude1', 'produtivid' ], axis= 1)\n",
    "y= df1['produtivid']\n",
    "X_train,X_test,y_train,y_test = train_test_split(X,y,test_size=0.3) #70% treino e 30% teste\n"
   ]
  },
  {
   "cell_type": "code",
   "execution_count": 11,
   "id": "566a0dc5",
   "metadata": {},
   "outputs": [
    {
     "data": {
      "text/plain": [
       "OrthogonalMatchingPursuit(n_nonzero_coefs=10)"
      ]
     },
     "execution_count": 11,
     "metadata": {},
     "output_type": "execute_result"
    }
   ],
   "source": [
    "#Importar algoritmo\n",
    "from sklearn.linear_model import OrthogonalMatchingPursuit\n",
    "omp = OrthogonalMatchingPursuit(n_nonzero_coefs=10)#Criação do modelo\n",
    "omp.fit(X_train, y_train)"
   ]
  },
  {
   "cell_type": "code",
   "execution_count": 12,
   "id": "5863e009",
   "metadata": {},
   "outputs": [],
   "source": [
    "#Predição na validação\n",
    "y_prod_pred = omp.predict(df2.drop(['produtivid','fid', 'lat', 'long', 'talhao', 'wkt_geom','Altitude1'], axis = 1))"
   ]
  },
  {
   "cell_type": "code",
   "execution_count": 13,
   "id": "1bfa73da",
   "metadata": {},
   "outputs": [
    {
     "name": "stdout",
     "output_type": "stream",
     "text": [
      "MAE: 10.638517279423294\n",
      "RMSE: 13.799364902392675\n",
      "R²: 0.6111561036436857\n"
     ]
    }
   ],
   "source": [
    "#Métricas de erro\n",
    "from sklearn.metrics import mean_absolute_error, mean_squared_error, r2_score\n",
    "mae_p = mean_absolute_error(df2['produtivid'], y_prod_pred)\n",
    "rmse_p = np.sqrt(mean_squared_error(df2['produtivid'], y_prod_pred))\n",
    "r_squared_p = r2_score(df2['produtivid'], y_prod_pred)\n",
    "print(\"MAE:\", mae_p)\n",
    "print(\"RMSE:\", rmse_p)\n",
    "print(\"R²:\", r_squared_p)"
   ]
  },
  {
   "cell_type": "code",
   "execution_count": null,
   "id": "c1a04631",
   "metadata": {},
   "outputs": [],
   "source": []
  }
 ],
 "metadata": {
  "kernelspec": {
   "display_name": "Python 3",
   "language": "python",
   "name": "python3"
  },
  "language_info": {
   "codemirror_mode": {
    "name": "ipython",
    "version": 3
   },
   "file_extension": ".py",
   "mimetype": "text/x-python",
   "name": "python",
   "nbconvert_exporter": "python",
   "pygments_lexer": "ipython3",
   "version": "3.8.8"
  }
 },
 "nbformat": 4,
 "nbformat_minor": 5
}
